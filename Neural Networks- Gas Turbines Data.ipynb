{
 "cells": [
  {
   "cell_type": "raw",
   "id": "1008a3bd",
   "metadata": {},
   "source": [
    "Problem Statement-\n",
    "The Dataset includes gas turbine parameters (such as Turbine Inlet Temperature and Compressor Discharge pressure) in addition to the ambient variables.\n",
    "\n",
    "\n",
    "\n",
    "Attribute Information:\n",
    "\n",
    "The explanations of sensor measurements and their brief statistics are given below.\n",
    "\n",
    "Variable (Abbr.) Unit Min Max Mean\n",
    "Ambient temperature (AT) C â€“6.23 37.10 17.71\n",
    "Ambient pressure (AP) mbar 985.85 1036.56 1013.07\n",
    "Ambient humidity (AH) (%) 24.08 100.20 77.87\n",
    "Air filter difference pressure (AFDP) mbar 2.09 7.61 3.93\n",
    "Gas turbine exhaust pressure (GTEP) mbar 17.70 40.72 25.56\n",
    "Turbine inlet temperature (TIT) C 1000.85 1100.89 1081.43\n",
    "Turbine after temperature (TAT) C 511.04 550.61 546.16\n",
    "Compressor discharge pressure (CDP) mbar 9.85 15.16 12.06\n",
    "Turbine energy yield (TEY) MWH 100.02 179.50 133.51\n",
    "Carbon monoxide (CO) mg/m3 0.00 44.10 2.37\n",
    "Nitrogen oxides (NOx) mg/m3 25.90 119.91 65.29"
   ]
  },
  {
   "cell_type": "code",
   "execution_count": 1,
   "id": "e53fbc9d",
   "metadata": {},
   "outputs": [],
   "source": [
    "import pandas as pd\n",
    "import numpy as np\n",
    "import seaborn as sns\n",
    "import matplotlib.pyplot as plt\n",
    "import tensorflow\n",
    "from sklearn.preprocessing import StandardScaler\n"
   ]
  },
  {
   "cell_type": "code",
   "execution_count": 2,
   "id": "eda19336",
   "metadata": {},
   "outputs": [],
   "source": [
    "gt_data=pd.read_csv('gas_turbines.csv')"
   ]
  },
  {
   "cell_type": "code",
   "execution_count": 3,
   "id": "1c2d4575",
   "metadata": {},
   "outputs": [
    {
     "data": {
      "text/html": [
       "<div>\n",
       "<style scoped>\n",
       "    .dataframe tbody tr th:only-of-type {\n",
       "        vertical-align: middle;\n",
       "    }\n",
       "\n",
       "    .dataframe tbody tr th {\n",
       "        vertical-align: top;\n",
       "    }\n",
       "\n",
       "    .dataframe thead th {\n",
       "        text-align: right;\n",
       "    }\n",
       "</style>\n",
       "<table border=\"1\" class=\"dataframe\">\n",
       "  <thead>\n",
       "    <tr style=\"text-align: right;\">\n",
       "      <th></th>\n",
       "      <th>AT</th>\n",
       "      <th>AP</th>\n",
       "      <th>AH</th>\n",
       "      <th>AFDP</th>\n",
       "      <th>GTEP</th>\n",
       "      <th>TIT</th>\n",
       "      <th>TAT</th>\n",
       "      <th>TEY</th>\n",
       "      <th>CDP</th>\n",
       "      <th>CO</th>\n",
       "      <th>NOX</th>\n",
       "    </tr>\n",
       "  </thead>\n",
       "  <tbody>\n",
       "    <tr>\n",
       "      <th>0</th>\n",
       "      <td>6.8594</td>\n",
       "      <td>1007.9</td>\n",
       "      <td>96.799</td>\n",
       "      <td>3.5000</td>\n",
       "      <td>19.663</td>\n",
       "      <td>1059.2</td>\n",
       "      <td>550.00</td>\n",
       "      <td>114.70</td>\n",
       "      <td>10.605</td>\n",
       "      <td>3.1547</td>\n",
       "      <td>82.722</td>\n",
       "    </tr>\n",
       "    <tr>\n",
       "      <th>1</th>\n",
       "      <td>6.7850</td>\n",
       "      <td>1008.4</td>\n",
       "      <td>97.118</td>\n",
       "      <td>3.4998</td>\n",
       "      <td>19.728</td>\n",
       "      <td>1059.3</td>\n",
       "      <td>550.00</td>\n",
       "      <td>114.72</td>\n",
       "      <td>10.598</td>\n",
       "      <td>3.2363</td>\n",
       "      <td>82.776</td>\n",
       "    </tr>\n",
       "    <tr>\n",
       "      <th>2</th>\n",
       "      <td>6.8977</td>\n",
       "      <td>1008.8</td>\n",
       "      <td>95.939</td>\n",
       "      <td>3.4824</td>\n",
       "      <td>19.779</td>\n",
       "      <td>1059.4</td>\n",
       "      <td>549.87</td>\n",
       "      <td>114.71</td>\n",
       "      <td>10.601</td>\n",
       "      <td>3.2012</td>\n",
       "      <td>82.468</td>\n",
       "    </tr>\n",
       "    <tr>\n",
       "      <th>3</th>\n",
       "      <td>7.0569</td>\n",
       "      <td>1009.2</td>\n",
       "      <td>95.249</td>\n",
       "      <td>3.4805</td>\n",
       "      <td>19.792</td>\n",
       "      <td>1059.6</td>\n",
       "      <td>549.99</td>\n",
       "      <td>114.72</td>\n",
       "      <td>10.606</td>\n",
       "      <td>3.1923</td>\n",
       "      <td>82.670</td>\n",
       "    </tr>\n",
       "    <tr>\n",
       "      <th>4</th>\n",
       "      <td>7.3978</td>\n",
       "      <td>1009.7</td>\n",
       "      <td>95.150</td>\n",
       "      <td>3.4976</td>\n",
       "      <td>19.765</td>\n",
       "      <td>1059.7</td>\n",
       "      <td>549.98</td>\n",
       "      <td>114.72</td>\n",
       "      <td>10.612</td>\n",
       "      <td>3.2484</td>\n",
       "      <td>82.311</td>\n",
       "    </tr>\n",
       "  </tbody>\n",
       "</table>\n",
       "</div>"
      ],
      "text/plain": [
       "       AT      AP      AH    AFDP    GTEP     TIT     TAT     TEY     CDP  \\\n",
       "0  6.8594  1007.9  96.799  3.5000  19.663  1059.2  550.00  114.70  10.605   \n",
       "1  6.7850  1008.4  97.118  3.4998  19.728  1059.3  550.00  114.72  10.598   \n",
       "2  6.8977  1008.8  95.939  3.4824  19.779  1059.4  549.87  114.71  10.601   \n",
       "3  7.0569  1009.2  95.249  3.4805  19.792  1059.6  549.99  114.72  10.606   \n",
       "4  7.3978  1009.7  95.150  3.4976  19.765  1059.7  549.98  114.72  10.612   \n",
       "\n",
       "       CO     NOX  \n",
       "0  3.1547  82.722  \n",
       "1  3.2363  82.776  \n",
       "2  3.2012  82.468  \n",
       "3  3.1923  82.670  \n",
       "4  3.2484  82.311  "
      ]
     },
     "execution_count": 3,
     "metadata": {},
     "output_type": "execute_result"
    }
   ],
   "source": [
    "gt_data.head()"
   ]
  },
  {
   "cell_type": "code",
   "execution_count": 4,
   "id": "39aa97b7",
   "metadata": {},
   "outputs": [
    {
     "data": {
      "text/html": [
       "<div>\n",
       "<style scoped>\n",
       "    .dataframe tbody tr th:only-of-type {\n",
       "        vertical-align: middle;\n",
       "    }\n",
       "\n",
       "    .dataframe tbody tr th {\n",
       "        vertical-align: top;\n",
       "    }\n",
       "\n",
       "    .dataframe thead th {\n",
       "        text-align: right;\n",
       "    }\n",
       "</style>\n",
       "<table border=\"1\" class=\"dataframe\">\n",
       "  <thead>\n",
       "    <tr style=\"text-align: right;\">\n",
       "      <th></th>\n",
       "      <th>AT</th>\n",
       "      <th>AP</th>\n",
       "      <th>AH</th>\n",
       "      <th>AFDP</th>\n",
       "      <th>GTEP</th>\n",
       "      <th>TIT</th>\n",
       "      <th>TAT</th>\n",
       "      <th>TEY</th>\n",
       "      <th>CDP</th>\n",
       "      <th>CO</th>\n",
       "      <th>NOX</th>\n",
       "    </tr>\n",
       "  </thead>\n",
       "  <tbody>\n",
       "    <tr>\n",
       "      <th>15034</th>\n",
       "      <td>9.0301</td>\n",
       "      <td>1005.6</td>\n",
       "      <td>98.460</td>\n",
       "      <td>3.5421</td>\n",
       "      <td>19.164</td>\n",
       "      <td>1049.7</td>\n",
       "      <td>546.21</td>\n",
       "      <td>111.61</td>\n",
       "      <td>10.400</td>\n",
       "      <td>4.5186</td>\n",
       "      <td>79.559</td>\n",
       "    </tr>\n",
       "    <tr>\n",
       "      <th>15035</th>\n",
       "      <td>7.8879</td>\n",
       "      <td>1005.9</td>\n",
       "      <td>99.093</td>\n",
       "      <td>3.5059</td>\n",
       "      <td>19.414</td>\n",
       "      <td>1046.3</td>\n",
       "      <td>543.22</td>\n",
       "      <td>111.78</td>\n",
       "      <td>10.433</td>\n",
       "      <td>4.8470</td>\n",
       "      <td>79.917</td>\n",
       "    </tr>\n",
       "    <tr>\n",
       "      <th>15036</th>\n",
       "      <td>7.2647</td>\n",
       "      <td>1006.3</td>\n",
       "      <td>99.496</td>\n",
       "      <td>3.4770</td>\n",
       "      <td>19.530</td>\n",
       "      <td>1037.7</td>\n",
       "      <td>537.32</td>\n",
       "      <td>110.19</td>\n",
       "      <td>10.483</td>\n",
       "      <td>7.9632</td>\n",
       "      <td>90.912</td>\n",
       "    </tr>\n",
       "    <tr>\n",
       "      <th>15037</th>\n",
       "      <td>7.0060</td>\n",
       "      <td>1006.8</td>\n",
       "      <td>99.008</td>\n",
       "      <td>3.4486</td>\n",
       "      <td>19.377</td>\n",
       "      <td>1043.2</td>\n",
       "      <td>541.24</td>\n",
       "      <td>110.74</td>\n",
       "      <td>10.533</td>\n",
       "      <td>6.2494</td>\n",
       "      <td>93.227</td>\n",
       "    </tr>\n",
       "    <tr>\n",
       "      <th>15038</th>\n",
       "      <td>6.9279</td>\n",
       "      <td>1007.2</td>\n",
       "      <td>97.533</td>\n",
       "      <td>3.4275</td>\n",
       "      <td>19.306</td>\n",
       "      <td>1049.9</td>\n",
       "      <td>545.85</td>\n",
       "      <td>111.58</td>\n",
       "      <td>10.583</td>\n",
       "      <td>4.9816</td>\n",
       "      <td>92.498</td>\n",
       "    </tr>\n",
       "  </tbody>\n",
       "</table>\n",
       "</div>"
      ],
      "text/plain": [
       "           AT      AP      AH    AFDP    GTEP     TIT     TAT     TEY     CDP  \\\n",
       "15034  9.0301  1005.6  98.460  3.5421  19.164  1049.7  546.21  111.61  10.400   \n",
       "15035  7.8879  1005.9  99.093  3.5059  19.414  1046.3  543.22  111.78  10.433   \n",
       "15036  7.2647  1006.3  99.496  3.4770  19.530  1037.7  537.32  110.19  10.483   \n",
       "15037  7.0060  1006.8  99.008  3.4486  19.377  1043.2  541.24  110.74  10.533   \n",
       "15038  6.9279  1007.2  97.533  3.4275  19.306  1049.9  545.85  111.58  10.583   \n",
       "\n",
       "           CO     NOX  \n",
       "15034  4.5186  79.559  \n",
       "15035  4.8470  79.917  \n",
       "15036  7.9632  90.912  \n",
       "15037  6.2494  93.227  \n",
       "15038  4.9816  92.498  "
      ]
     },
     "execution_count": 4,
     "metadata": {},
     "output_type": "execute_result"
    }
   ],
   "source": [
    "gt_data.tail()"
   ]
  },
  {
   "cell_type": "code",
   "execution_count": 5,
   "id": "620b2178",
   "metadata": {},
   "outputs": [
    {
     "name": "stdout",
     "output_type": "stream",
     "text": [
      "<class 'pandas.core.frame.DataFrame'>\n",
      "RangeIndex: 15039 entries, 0 to 15038\n",
      "Data columns (total 11 columns):\n",
      " #   Column  Non-Null Count  Dtype  \n",
      "---  ------  --------------  -----  \n",
      " 0   AT      15039 non-null  float64\n",
      " 1   AP      15039 non-null  float64\n",
      " 2   AH      15039 non-null  float64\n",
      " 3   AFDP    15039 non-null  float64\n",
      " 4   GTEP    15039 non-null  float64\n",
      " 5   TIT     15039 non-null  float64\n",
      " 6   TAT     15039 non-null  float64\n",
      " 7   TEY     15039 non-null  float64\n",
      " 8   CDP     15039 non-null  float64\n",
      " 9   CO      15039 non-null  float64\n",
      " 10  NOX     15039 non-null  float64\n",
      "dtypes: float64(11)\n",
      "memory usage: 1.3 MB\n"
     ]
    }
   ],
   "source": [
    "gt_data.info()"
   ]
  },
  {
   "cell_type": "code",
   "execution_count": 6,
   "id": "16fda5fe",
   "metadata": {},
   "outputs": [
    {
     "data": {
      "text/plain": [
       "AT      0\n",
       "AP      0\n",
       "AH      0\n",
       "AFDP    0\n",
       "GTEP    0\n",
       "TIT     0\n",
       "TAT     0\n",
       "TEY     0\n",
       "CDP     0\n",
       "CO      0\n",
       "NOX     0\n",
       "dtype: int64"
      ]
     },
     "execution_count": 6,
     "metadata": {},
     "output_type": "execute_result"
    }
   ],
   "source": [
    "gt_data.isnull().sum()"
   ]
  },
  {
   "cell_type": "code",
   "execution_count": 7,
   "id": "f26bbdcb",
   "metadata": {},
   "outputs": [
    {
     "data": {
      "text/plain": [
       "(0, 11)"
      ]
     },
     "execution_count": 7,
     "metadata": {},
     "output_type": "execute_result"
    }
   ],
   "source": [
    "gt_data[gt_data.duplicated()].shape"
   ]
  },
  {
   "cell_type": "code",
   "execution_count": 8,
   "id": "909985b1",
   "metadata": {},
   "outputs": [
    {
     "data": {
      "text/html": [
       "<div>\n",
       "<style scoped>\n",
       "    .dataframe tbody tr th:only-of-type {\n",
       "        vertical-align: middle;\n",
       "    }\n",
       "\n",
       "    .dataframe tbody tr th {\n",
       "        vertical-align: top;\n",
       "    }\n",
       "\n",
       "    .dataframe thead th {\n",
       "        text-align: right;\n",
       "    }\n",
       "</style>\n",
       "<table border=\"1\" class=\"dataframe\">\n",
       "  <thead>\n",
       "    <tr style=\"text-align: right;\">\n",
       "      <th></th>\n",
       "      <th>AT</th>\n",
       "      <th>AP</th>\n",
       "      <th>AH</th>\n",
       "      <th>AFDP</th>\n",
       "      <th>GTEP</th>\n",
       "      <th>TIT</th>\n",
       "      <th>TAT</th>\n",
       "      <th>TEY</th>\n",
       "      <th>CDP</th>\n",
       "      <th>CO</th>\n",
       "      <th>NOX</th>\n",
       "    </tr>\n",
       "  </thead>\n",
       "  <tbody>\n",
       "    <tr>\n",
       "      <th>count</th>\n",
       "      <td>15039.000000</td>\n",
       "      <td>15039.00000</td>\n",
       "      <td>15039.000000</td>\n",
       "      <td>15039.000000</td>\n",
       "      <td>15039.000000</td>\n",
       "      <td>15039.000000</td>\n",
       "      <td>15039.000000</td>\n",
       "      <td>15039.000000</td>\n",
       "      <td>15039.000000</td>\n",
       "      <td>15039.000000</td>\n",
       "      <td>15039.000000</td>\n",
       "    </tr>\n",
       "    <tr>\n",
       "      <th>mean</th>\n",
       "      <td>17.764381</td>\n",
       "      <td>1013.19924</td>\n",
       "      <td>79.124174</td>\n",
       "      <td>4.200294</td>\n",
       "      <td>25.419061</td>\n",
       "      <td>1083.798770</td>\n",
       "      <td>545.396183</td>\n",
       "      <td>134.188464</td>\n",
       "      <td>12.102353</td>\n",
       "      <td>1.972499</td>\n",
       "      <td>68.190934</td>\n",
       "    </tr>\n",
       "    <tr>\n",
       "      <th>std</th>\n",
       "      <td>7.574323</td>\n",
       "      <td>6.41076</td>\n",
       "      <td>13.793439</td>\n",
       "      <td>0.760197</td>\n",
       "      <td>4.173916</td>\n",
       "      <td>16.527806</td>\n",
       "      <td>7.866803</td>\n",
       "      <td>15.829717</td>\n",
       "      <td>1.103196</td>\n",
       "      <td>2.222206</td>\n",
       "      <td>10.470586</td>\n",
       "    </tr>\n",
       "    <tr>\n",
       "      <th>min</th>\n",
       "      <td>0.522300</td>\n",
       "      <td>985.85000</td>\n",
       "      <td>30.344000</td>\n",
       "      <td>2.087400</td>\n",
       "      <td>17.878000</td>\n",
       "      <td>1000.800000</td>\n",
       "      <td>512.450000</td>\n",
       "      <td>100.170000</td>\n",
       "      <td>9.904400</td>\n",
       "      <td>0.000388</td>\n",
       "      <td>27.765000</td>\n",
       "    </tr>\n",
       "    <tr>\n",
       "      <th>25%</th>\n",
       "      <td>11.408000</td>\n",
       "      <td>1008.90000</td>\n",
       "      <td>69.750000</td>\n",
       "      <td>3.723900</td>\n",
       "      <td>23.294000</td>\n",
       "      <td>1079.600000</td>\n",
       "      <td>542.170000</td>\n",
       "      <td>127.985000</td>\n",
       "      <td>11.622000</td>\n",
       "      <td>0.858055</td>\n",
       "      <td>61.303500</td>\n",
       "    </tr>\n",
       "    <tr>\n",
       "      <th>50%</th>\n",
       "      <td>18.186000</td>\n",
       "      <td>1012.80000</td>\n",
       "      <td>82.266000</td>\n",
       "      <td>4.186200</td>\n",
       "      <td>25.082000</td>\n",
       "      <td>1088.700000</td>\n",
       "      <td>549.890000</td>\n",
       "      <td>133.780000</td>\n",
       "      <td>12.025000</td>\n",
       "      <td>1.390200</td>\n",
       "      <td>66.601000</td>\n",
       "    </tr>\n",
       "    <tr>\n",
       "      <th>75%</th>\n",
       "      <td>23.862500</td>\n",
       "      <td>1016.90000</td>\n",
       "      <td>90.043500</td>\n",
       "      <td>4.550900</td>\n",
       "      <td>27.184000</td>\n",
       "      <td>1096.000000</td>\n",
       "      <td>550.060000</td>\n",
       "      <td>140.895000</td>\n",
       "      <td>12.578000</td>\n",
       "      <td>2.160400</td>\n",
       "      <td>73.935500</td>\n",
       "    </tr>\n",
       "    <tr>\n",
       "      <th>max</th>\n",
       "      <td>34.929000</td>\n",
       "      <td>1034.20000</td>\n",
       "      <td>100.200000</td>\n",
       "      <td>7.610600</td>\n",
       "      <td>37.402000</td>\n",
       "      <td>1100.800000</td>\n",
       "      <td>550.610000</td>\n",
       "      <td>174.610000</td>\n",
       "      <td>15.081000</td>\n",
       "      <td>44.103000</td>\n",
       "      <td>119.890000</td>\n",
       "    </tr>\n",
       "  </tbody>\n",
       "</table>\n",
       "</div>"
      ],
      "text/plain": [
       "                 AT           AP            AH          AFDP          GTEP  \\\n",
       "count  15039.000000  15039.00000  15039.000000  15039.000000  15039.000000   \n",
       "mean      17.764381   1013.19924     79.124174      4.200294     25.419061   \n",
       "std        7.574323      6.41076     13.793439      0.760197      4.173916   \n",
       "min        0.522300    985.85000     30.344000      2.087400     17.878000   \n",
       "25%       11.408000   1008.90000     69.750000      3.723900     23.294000   \n",
       "50%       18.186000   1012.80000     82.266000      4.186200     25.082000   \n",
       "75%       23.862500   1016.90000     90.043500      4.550900     27.184000   \n",
       "max       34.929000   1034.20000    100.200000      7.610600     37.402000   \n",
       "\n",
       "                TIT           TAT           TEY           CDP            CO  \\\n",
       "count  15039.000000  15039.000000  15039.000000  15039.000000  15039.000000   \n",
       "mean    1083.798770    545.396183    134.188464     12.102353      1.972499   \n",
       "std       16.527806      7.866803     15.829717      1.103196      2.222206   \n",
       "min     1000.800000    512.450000    100.170000      9.904400      0.000388   \n",
       "25%     1079.600000    542.170000    127.985000     11.622000      0.858055   \n",
       "50%     1088.700000    549.890000    133.780000     12.025000      1.390200   \n",
       "75%     1096.000000    550.060000    140.895000     12.578000      2.160400   \n",
       "max     1100.800000    550.610000    174.610000     15.081000     44.103000   \n",
       "\n",
       "                NOX  \n",
       "count  15039.000000  \n",
       "mean      68.190934  \n",
       "std       10.470586  \n",
       "min       27.765000  \n",
       "25%       61.303500  \n",
       "50%       66.601000  \n",
       "75%       73.935500  \n",
       "max      119.890000  "
      ]
     },
     "execution_count": 8,
     "metadata": {},
     "output_type": "execute_result"
    }
   ],
   "source": [
    "gt_data.describe()"
   ]
  },
  {
   "cell_type": "code",
   "execution_count": 9,
   "id": "ab936d35",
   "metadata": {},
   "outputs": [],
   "source": [
    "## We can get information about min , 50% and max as well get to know the distribution\n",
    "## values"
   ]
  },
  {
   "cell_type": "code",
   "execution_count": 10,
   "id": "0fd8a791",
   "metadata": {},
   "outputs": [
    {
     "name": "stderr",
     "output_type": "stream",
     "text": [
      "C:\\Users\\samee\\anaconda3\\lib\\site-packages\\seaborn\\distributions.py:2619: FutureWarning: `distplot` is a deprecated function and will be removed in a future version. Please adapt your code to use either `displot` (a figure-level function with similar flexibility) or `histplot` (an axes-level function for histograms).\n",
      "  warnings.warn(msg, FutureWarning)\n"
     ]
    },
    {
     "data": {
      "text/plain": [
       "<AxesSubplot:xlabel='CO', ylabel='Density'>"
      ]
     },
     "execution_count": 10,
     "metadata": {},
     "output_type": "execute_result"
    },
    {
     "data": {
      "image/png": "[encoded data removed]",
      "text/plain": [
       "<Figure size 432x288 with 1 Axes>"
      ]
     },
     "metadata": {
      "needs_background": "light"
     },
     "output_type": "display_data"
    }
   ],
   "source": [
    "sns.distplot(gt_data['CO'])"
   ]
  },
  {
   "cell_type": "code",
   "execution_count": 11,
   "id": "50c2b0cf",
   "metadata": {},
   "outputs": [
    {
     "name": "stderr",
     "output_type": "stream",
     "text": [
      "C:\\Users\\samee\\anaconda3\\lib\\site-packages\\seaborn\\_decorators.py:36: FutureWarning: Pass the following variable as a keyword arg: x. From version 0.12, the only valid positional argument will be `data`, and passing other arguments without an explicit keyword will result in an error or misinterpretation.\n",
      "  warnings.warn(\n"
     ]
    },
    {
     "data": {
      "text/plain": [
       "<AxesSubplot:xlabel='CO'>"
      ]
     },
     "execution_count": 11,
     "metadata": {},
     "output_type": "execute_result"
    },
    {
     "data": {
      "image/png": "[encoded data removed]",
      "text/plain": [
       "<Figure size 432x288 with 1 Axes>"
      ]
     },
     "metadata": {
      "needs_background": "light"
     },
     "output_type": "display_data"
    }
   ],
   "source": [
    "sns.boxplot(gt_data['CO'])"
   ]
  },
  {
   "cell_type": "code",
   "execution_count": 12,
   "id": "e3a28ae2",
   "metadata": {},
   "outputs": [
    {
     "data": {
      "text/plain": [
       "0.00038751"
      ]
     },
     "execution_count": 12,
     "metadata": {},
     "output_type": "execute_result"
    }
   ],
   "source": [
    "min(gt_data['CO'])"
   ]
  },
  {
   "cell_type": "code",
   "execution_count": 13,
   "id": "efb609a7",
   "metadata": {},
   "outputs": [
    {
     "data": {
      "text/plain": [
       "44.103"
      ]
     },
     "execution_count": 13,
     "metadata": {},
     "output_type": "execute_result"
    }
   ],
   "source": [
    "max(gt_data['CO'])"
   ]
  },
  {
   "cell_type": "markdown",
   "id": "46057aaa",
   "metadata": {},
   "source": [
    "## Understanding Target Variable"
   ]
  },
  {
   "cell_type": "code",
   "execution_count": 14,
   "id": "2681c1f7",
   "metadata": {},
   "outputs": [
    {
     "data": {
      "text/plain": [
       "(array([ 247., 2671.,  474.,  528., 7145.,  462.,  989., 1215., 1160.,\n",
       "         148.]),\n",
       " array([100.17 , 107.614, 115.058, 122.502, 129.946, 137.39 , 144.834,\n",
       "        152.278, 159.722, 167.166, 174.61 ]),\n",
       " <BarContainer object of 10 artists>)"
      ]
     },
     "execution_count": 14,
     "metadata": {},
     "output_type": "execute_result"
    },
    {
     "data": {
      "image/png": "[encoded data removed]",
      "text/plain": [
       "<Figure size 432x288 with 1 Axes>"
      ]
     },
     "metadata": {
      "needs_background": "light"
     },
     "output_type": "display_data"
    }
   ],
   "source": [
    "plt.hist(gt_data['TEY'])"
   ]
  },
  {
   "cell_type": "code",
   "execution_count": 15,
   "id": "c473a2a8",
   "metadata": {},
   "outputs": [],
   "source": [
    "from sklearn.preprocessing import StandardScaler"
   ]
  },
  {
   "cell_type": "code",
   "execution_count": 16,
   "id": "bf347826",
   "metadata": {},
   "outputs": [],
   "source": [
    "scaler=StandardScaler()\n",
    "st_gt_data=scaler.fit_transform(gt_data)\n",
    "df=pd.DataFrame(st_gt_data,columns=gt_data.columns)"
   ]
  },
  {
   "cell_type": "code",
   "execution_count": 17,
   "id": "0582da27",
   "metadata": {},
   "outputs": [
    {
     "data": {
      "text/html": [
       "<div>\n",
       "<style scoped>\n",
       "    .dataframe tbody tr th:only-of-type {\n",
       "        vertical-align: middle;\n",
       "    }\n",
       "\n",
       "    .dataframe tbody tr th {\n",
       "        vertical-align: top;\n",
       "    }\n",
       "\n",
       "    .dataframe thead th {\n",
       "        text-align: right;\n",
       "    }\n",
       "</style>\n",
       "<table border=\"1\" class=\"dataframe\">\n",
       "  <thead>\n",
       "    <tr style=\"text-align: right;\">\n",
       "      <th></th>\n",
       "      <th>AT</th>\n",
       "      <th>AP</th>\n",
       "      <th>AH</th>\n",
       "      <th>AFDP</th>\n",
       "      <th>GTEP</th>\n",
       "      <th>TIT</th>\n",
       "      <th>TAT</th>\n",
       "      <th>TEY</th>\n",
       "      <th>CDP</th>\n",
       "      <th>CO</th>\n",
       "      <th>NOX</th>\n",
       "    </tr>\n",
       "  </thead>\n",
       "  <tbody>\n",
       "    <tr>\n",
       "      <th>0</th>\n",
       "      <td>-1.439778</td>\n",
       "      <td>-0.826644</td>\n",
       "      <td>1.281436</td>\n",
       "      <td>-0.921232</td>\n",
       "      <td>-1.379101</td>\n",
       "      <td>-1.488376</td>\n",
       "      <td>0.585240</td>\n",
       "      <td>-1.231172</td>\n",
       "      <td>-1.357331</td>\n",
       "      <td>0.532012</td>\n",
       "      <td>1.387845</td>\n",
       "    </tr>\n",
       "    <tr>\n",
       "      <th>1</th>\n",
       "      <td>-1.449601</td>\n",
       "      <td>-0.748647</td>\n",
       "      <td>1.304564</td>\n",
       "      <td>-0.921495</td>\n",
       "      <td>-1.363528</td>\n",
       "      <td>-1.482325</td>\n",
       "      <td>0.585240</td>\n",
       "      <td>-1.229909</td>\n",
       "      <td>-1.363676</td>\n",
       "      <td>0.568733</td>\n",
       "      <td>1.393002</td>\n",
       "    </tr>\n",
       "    <tr>\n",
       "      <th>2</th>\n",
       "      <td>-1.434721</td>\n",
       "      <td>-0.686250</td>\n",
       "      <td>1.219086</td>\n",
       "      <td>-0.944385</td>\n",
       "      <td>-1.351309</td>\n",
       "      <td>-1.476275</td>\n",
       "      <td>0.568715</td>\n",
       "      <td>-1.230541</td>\n",
       "      <td>-1.360957</td>\n",
       "      <td>0.552938</td>\n",
       "      <td>1.363586</td>\n",
       "    </tr>\n",
       "    <tr>\n",
       "      <th>3</th>\n",
       "      <td>-1.413702</td>\n",
       "      <td>-0.623853</td>\n",
       "      <td>1.169060</td>\n",
       "      <td>-0.946884</td>\n",
       "      <td>-1.348194</td>\n",
       "      <td>-1.464173</td>\n",
       "      <td>0.583969</td>\n",
       "      <td>-1.229909</td>\n",
       "      <td>-1.356424</td>\n",
       "      <td>0.548933</td>\n",
       "      <td>1.382878</td>\n",
       "    </tr>\n",
       "    <tr>\n",
       "      <th>4</th>\n",
       "      <td>-1.368693</td>\n",
       "      <td>-0.545857</td>\n",
       "      <td>1.161883</td>\n",
       "      <td>-0.924389</td>\n",
       "      <td>-1.354663</td>\n",
       "      <td>-1.458123</td>\n",
       "      <td>0.582698</td>\n",
       "      <td>-1.229909</td>\n",
       "      <td>-1.350985</td>\n",
       "      <td>0.574179</td>\n",
       "      <td>1.348591</td>\n",
       "    </tr>\n",
       "    <tr>\n",
       "      <th>...</th>\n",
       "      <td>...</td>\n",
       "      <td>...</td>\n",
       "      <td>...</td>\n",
       "      <td>...</td>\n",
       "      <td>...</td>\n",
       "      <td>...</td>\n",
       "      <td>...</td>\n",
       "      <td>...</td>\n",
       "      <td>...</td>\n",
       "      <td>...</td>\n",
       "      <td>...</td>\n",
       "    </tr>\n",
       "    <tr>\n",
       "      <th>15034</th>\n",
       "      <td>-1.153182</td>\n",
       "      <td>-1.185428</td>\n",
       "      <td>1.401860</td>\n",
       "      <td>-0.865850</td>\n",
       "      <td>-1.498657</td>\n",
       "      <td>-2.063184</td>\n",
       "      <td>0.103453</td>\n",
       "      <td>-1.426381</td>\n",
       "      <td>-1.543161</td>\n",
       "      <td>1.145792</td>\n",
       "      <td>1.085751</td>\n",
       "    </tr>\n",
       "    <tr>\n",
       "      <th>15035</th>\n",
       "      <td>-1.303986</td>\n",
       "      <td>-1.138630</td>\n",
       "      <td>1.447753</td>\n",
       "      <td>-0.913470</td>\n",
       "      <td>-1.438759</td>\n",
       "      <td>-2.268905</td>\n",
       "      <td>-0.276638</td>\n",
       "      <td>-1.415642</td>\n",
       "      <td>-1.513247</td>\n",
       "      <td>1.293578</td>\n",
       "      <td>1.119943</td>\n",
       "    </tr>\n",
       "    <tr>\n",
       "      <th>15036</th>\n",
       "      <td>-1.386267</td>\n",
       "      <td>-1.076233</td>\n",
       "      <td>1.476971</td>\n",
       "      <td>-0.951488</td>\n",
       "      <td>-1.410967</td>\n",
       "      <td>-2.789257</td>\n",
       "      <td>-1.026650</td>\n",
       "      <td>-1.516089</td>\n",
       "      <td>-1.467922</td>\n",
       "      <td>2.695925</td>\n",
       "      <td>2.170062</td>\n",
       "    </tr>\n",
       "    <tr>\n",
       "      <th>15037</th>\n",
       "      <td>-1.420423</td>\n",
       "      <td>-0.998236</td>\n",
       "      <td>1.441590</td>\n",
       "      <td>-0.988848</td>\n",
       "      <td>-1.447624</td>\n",
       "      <td>-2.456474</td>\n",
       "      <td>-0.528337</td>\n",
       "      <td>-1.481343</td>\n",
       "      <td>-1.422598</td>\n",
       "      <td>1.924683</td>\n",
       "      <td>2.391165</td>\n",
       "    </tr>\n",
       "    <tr>\n",
       "      <th>15038</th>\n",
       "      <td>-1.430734</td>\n",
       "      <td>-0.935839</td>\n",
       "      <td>1.334652</td>\n",
       "      <td>-1.016605</td>\n",
       "      <td>-1.464635</td>\n",
       "      <td>-2.051083</td>\n",
       "      <td>0.057689</td>\n",
       "      <td>-1.428277</td>\n",
       "      <td>-1.377273</td>\n",
       "      <td>1.354150</td>\n",
       "      <td>2.321539</td>\n",
       "    </tr>\n",
       "  </tbody>\n",
       "</table>\n",
       "<p>15039 rows × 11 columns</p>\n",
       "</div>"
      ],
      "text/plain": [
       "             AT        AP        AH      AFDP      GTEP       TIT       TAT  \\\n",
       "0     -1.439778 -0.826644  1.281436 -0.921232 -1.379101 -1.488376  0.585240   \n",
       "1     -1.449601 -0.748647  1.304564 -0.921495 -1.363528 -1.482325  0.585240   \n",
       "2     -1.434721 -0.686250  1.219086 -0.944385 -1.351309 -1.476275  0.568715   \n",
       "3     -1.413702 -0.623853  1.169060 -0.946884 -1.348194 -1.464173  0.583969   \n",
       "4     -1.368693 -0.545857  1.161883 -0.924389 -1.354663 -1.458123  0.582698   \n",
       "...         ...       ...       ...       ...       ...       ...       ...   \n",
       "15034 -1.153182 -1.185428  1.401860 -0.865850 -1.498657 -2.063184  0.103453   \n",
       "15035 -1.303986 -1.138630  1.447753 -0.913470 -1.438759 -2.268905 -0.276638   \n",
       "15036 -1.386267 -1.076233  1.476971 -0.951488 -1.410967 -2.789257 -1.026650   \n",
       "15037 -1.420423 -0.998236  1.441590 -0.988848 -1.447624 -2.456474 -0.528337   \n",
       "15038 -1.430734 -0.935839  1.334652 -1.016605 -1.464635 -2.051083  0.057689   \n",
       "\n",
       "            TEY       CDP        CO       NOX  \n",
       "0     -1.231172 -1.357331  0.532012  1.387845  \n",
       "1     -1.229909 -1.363676  0.568733  1.393002  \n",
       "2     -1.230541 -1.360957  0.552938  1.363586  \n",
       "3     -1.229909 -1.356424  0.548933  1.382878  \n",
       "4     -1.229909 -1.350985  0.574179  1.348591  \n",
       "...         ...       ...       ...       ...  \n",
       "15034 -1.426381 -1.543161  1.145792  1.085751  \n",
       "15035 -1.415642 -1.513247  1.293578  1.119943  \n",
       "15036 -1.516089 -1.467922  2.695925  2.170062  \n",
       "15037 -1.481343 -1.422598  1.924683  2.391165  \n",
       "15038 -1.428277 -1.377273  1.354150  2.321539  \n",
       "\n",
       "[15039 rows x 11 columns]"
      ]
     },
     "execution_count": 17,
     "metadata": {},
     "output_type": "execute_result"
    }
   ],
   "source": [
    "df"
   ]
  },
  {
   "cell_type": "code",
   "execution_count": 18,
   "id": "79ff7704",
   "metadata": {},
   "outputs": [
    {
     "data": {
      "text/html": [
       "<div>\n",
       "<style scoped>\n",
       "    .dataframe tbody tr th:only-of-type {\n",
       "        vertical-align: middle;\n",
       "    }\n",
       "\n",
       "    .dataframe tbody tr th {\n",
       "        vertical-align: top;\n",
       "    }\n",
       "\n",
       "    .dataframe thead th {\n",
       "        text-align: right;\n",
       "    }\n",
       "</style>\n",
       "<table border=\"1\" class=\"dataframe\">\n",
       "  <thead>\n",
       "    <tr style=\"text-align: right;\">\n",
       "      <th></th>\n",
       "      <th>AT</th>\n",
       "      <th>AP</th>\n",
       "      <th>AH</th>\n",
       "      <th>AFDP</th>\n",
       "      <th>GTEP</th>\n",
       "      <th>TIT</th>\n",
       "      <th>TAT</th>\n",
       "      <th>CDP</th>\n",
       "      <th>CO</th>\n",
       "      <th>NOX</th>\n",
       "    </tr>\n",
       "  </thead>\n",
       "  <tbody>\n",
       "    <tr>\n",
       "      <th>0</th>\n",
       "      <td>-1.439778</td>\n",
       "      <td>-0.826644</td>\n",
       "      <td>1.281436</td>\n",
       "      <td>-0.921232</td>\n",
       "      <td>-1.379101</td>\n",
       "      <td>-1.488376</td>\n",
       "      <td>0.585240</td>\n",
       "      <td>-1.357331</td>\n",
       "      <td>0.532012</td>\n",
       "      <td>1.387845</td>\n",
       "    </tr>\n",
       "    <tr>\n",
       "      <th>1</th>\n",
       "      <td>-1.449601</td>\n",
       "      <td>-0.748647</td>\n",
       "      <td>1.304564</td>\n",
       "      <td>-0.921495</td>\n",
       "      <td>-1.363528</td>\n",
       "      <td>-1.482325</td>\n",
       "      <td>0.585240</td>\n",
       "      <td>-1.363676</td>\n",
       "      <td>0.568733</td>\n",
       "      <td>1.393002</td>\n",
       "    </tr>\n",
       "    <tr>\n",
       "      <th>2</th>\n",
       "      <td>-1.434721</td>\n",
       "      <td>-0.686250</td>\n",
       "      <td>1.219086</td>\n",
       "      <td>-0.944385</td>\n",
       "      <td>-1.351309</td>\n",
       "      <td>-1.476275</td>\n",
       "      <td>0.568715</td>\n",
       "      <td>-1.360957</td>\n",
       "      <td>0.552938</td>\n",
       "      <td>1.363586</td>\n",
       "    </tr>\n",
       "    <tr>\n",
       "      <th>3</th>\n",
       "      <td>-1.413702</td>\n",
       "      <td>-0.623853</td>\n",
       "      <td>1.169060</td>\n",
       "      <td>-0.946884</td>\n",
       "      <td>-1.348194</td>\n",
       "      <td>-1.464173</td>\n",
       "      <td>0.583969</td>\n",
       "      <td>-1.356424</td>\n",
       "      <td>0.548933</td>\n",
       "      <td>1.382878</td>\n",
       "    </tr>\n",
       "    <tr>\n",
       "      <th>4</th>\n",
       "      <td>-1.368693</td>\n",
       "      <td>-0.545857</td>\n",
       "      <td>1.161883</td>\n",
       "      <td>-0.924389</td>\n",
       "      <td>-1.354663</td>\n",
       "      <td>-1.458123</td>\n",
       "      <td>0.582698</td>\n",
       "      <td>-1.350985</td>\n",
       "      <td>0.574179</td>\n",
       "      <td>1.348591</td>\n",
       "    </tr>\n",
       "  </tbody>\n",
       "</table>\n",
       "</div>"
      ],
      "text/plain": [
       "         AT        AP        AH      AFDP      GTEP       TIT       TAT  \\\n",
       "0 -1.439778 -0.826644  1.281436 -0.921232 -1.379101 -1.488376  0.585240   \n",
       "1 -1.449601 -0.748647  1.304564 -0.921495 -1.363528 -1.482325  0.585240   \n",
       "2 -1.434721 -0.686250  1.219086 -0.944385 -1.351309 -1.476275  0.568715   \n",
       "3 -1.413702 -0.623853  1.169060 -0.946884 -1.348194 -1.464173  0.583969   \n",
       "4 -1.368693 -0.545857  1.161883 -0.924389 -1.354663 -1.458123  0.582698   \n",
       "\n",
       "        CDP        CO       NOX  \n",
       "0 -1.357331  0.532012  1.387845  \n",
       "1 -1.363676  0.568733  1.393002  \n",
       "2 -1.360957  0.552938  1.363586  \n",
       "3 -1.356424  0.548933  1.382878  \n",
       "4 -1.350985  0.574179  1.348591  "
      ]
     },
     "execution_count": 18,
     "metadata": {},
     "output_type": "execute_result"
    }
   ],
   "source": [
    "X=df.drop(['TEY'],axis=1)\n",
    "X.head()"
   ]
  },
  {
   "cell_type": "code",
   "execution_count": 19,
   "id": "9482df59",
   "metadata": {},
   "outputs": [
    {
     "data": {
      "text/plain": [
       "0   -1.231172\n",
       "1   -1.229909\n",
       "2   -1.230541\n",
       "3   -1.229909\n",
       "4   -1.229909\n",
       "Name: TEY, dtype: float64"
      ]
     },
     "execution_count": 19,
     "metadata": {},
     "output_type": "execute_result"
    }
   ],
   "source": [
    "Y=df['TEY']\n",
    "Y.head()"
   ]
  },
  {
   "cell_type": "code",
   "execution_count": 20,
   "id": "a2ccb3d4",
   "metadata": {},
   "outputs": [],
   "source": [
    "from sklearn.model_selection import GridSearchCV, KFold\n",
    "from keras.models import Sequential\n",
    "from keras.layers import Dense\n",
    "from keras.wrappers.scikit_learn import KerasClassifier,KerasRegressor\n",
    "#from keras.optimizers import Adam\n",
    "from tensorflow.keras.optimizers import Adam, SGD, RMSprop"
   ]
  },
  {
   "cell_type": "code",
   "execution_count": 21,
   "id": "d7a64112",
   "metadata": {},
   "outputs": [
    {
     "data": {
      "text/plain": [
       "10"
      ]
     },
     "execution_count": 21,
     "metadata": {},
     "output_type": "execute_result"
    }
   ],
   "source": [
    "n_features=X.shape[1]\n",
    "n_features"
   ]
  },
  {
   "cell_type": "code",
   "execution_count": 22,
   "id": "02e814b2",
   "metadata": {},
   "outputs": [],
   "source": [
    "def create_model(optimizer='adam'):\n",
    "    model=Sequential()\n",
    "    model.add(Dense(12,input_dim=n_features,kernel_initializer='uniform',\n",
    "                   activation='relu'))\n",
    "    model.add(Dense(8,kernel_initializer='uniform',activation='relu'))\n",
    "    model.add(Dense(1,kernel_initializer='uniform',activation='sigmoid'))\n",
    "    \n",
    "    #here we take loss func as means_squared_error coz its regression classifier\n",
    "    model.compile(loss='mean_squared_error',optimizer=optimizer,metrics=['accuracy'])\n",
    "    return model"
   ]
  },
  {
   "cell_type": "markdown",
   "id": "39b67d5c",
   "metadata": {},
   "source": [
    "## Early Stopping"
   ]
  },
  {
   "cell_type": "code",
   "execution_count": 23,
   "id": "afdb56bf",
   "metadata": {},
   "outputs": [],
   "source": [
    "import tensorflow as tf\n",
    "\n",
    "early_stopping=tf.keras.callbacks.EarlyStopping(\n",
    "    monitor=\"accuracy\",\n",
    "    patience=20,\n",
    "    verbose=3,\n",
    "    mode=\"auto\",\n",
    "    baseline=None,\n",
    "    restore_best_weights=False,\n",
    ")"
   ]
  },
  {
   "cell_type": "markdown",
   "id": "8f8b0a3e",
   "metadata": {},
   "source": [
    "## Gridsearch with HyperParamater Tuning"
   ]
  },
  {
   "cell_type": "code",
   "execution_count": 24,
   "id": "441f9a2d",
   "metadata": {},
   "outputs": [
    {
     "name": "stderr",
     "output_type": "stream",
     "text": [
      "C:\\Users\\samee\\AppData\\Local\\Temp/ipykernel_28108/2047618486.py:1: DeprecationWarning: KerasRegressor is deprecated, use Sci-Keras (https://github.com/adriangb/scikeras) instead. See https://www.adriangb.com/scikeras/stable/migration.html for help migrating.\n",
      "  model=KerasRegressor(build_fn=create_model,verbose=0)\n"
     ]
    },
    {
     "name": "stdout",
     "output_type": "stream",
     "text": [
      "Fitting 5 folds for each of 18 candidates, totalling 90 fits\n",
      "[CV 1/5] END batch_size=10, epochs=10, optimizer=SGD;, score=-0.689 total time=  21.8s\n",
      "[CV 2/5] END batch_size=10, epochs=10, optimizer=SGD;, score=-0.455 total time=  24.0s\n",
      "[CV 3/5] END batch_size=10, epochs=10, optimizer=SGD;, score=-0.506 total time=  22.7s\n",
      "[CV 4/5] END batch_size=10, epochs=10, optimizer=SGD;, score=-0.487 total time=  23.1s\n",
      "[CV 5/5] END batch_size=10, epochs=10, optimizer=SGD;, score=-0.697 total time=  24.8s\n",
      "[CV 1/5] END batch_size=10, epochs=10, optimizer=RMSprop;, score=-0.686 total time=  26.1s\n",
      "[CV 2/5] END batch_size=10, epochs=10, optimizer=RMSprop;, score=-0.437 total time=  10.0s\n",
      "[CV 3/5] END batch_size=10, epochs=10, optimizer=RMSprop;, score=-0.502 total time=   9.7s\n",
      "[CV 4/5] END batch_size=10, epochs=10, optimizer=RMSprop;, score=-0.485 total time=   9.2s\n",
      "[CV 5/5] END batch_size=10, epochs=10, optimizer=RMSprop;, score=-0.682 total time=   9.2s\n",
      "[CV 1/5] END batch_size=10, epochs=10, optimizer=Adam;, score=-0.686 total time=   9.4s\n",
      "[CV 2/5] END batch_size=10, epochs=10, optimizer=Adam;, score=-0.437 total time=   9.9s\n",
      "[CV 3/5] END batch_size=10, epochs=10, optimizer=Adam;, score=-0.502 total time=   9.3s\n",
      "[CV 4/5] END batch_size=10, epochs=10, optimizer=Adam;, score=-0.486 total time=   9.5s\n",
      "[CV 5/5] END batch_size=10, epochs=10, optimizer=Adam;, score=-0.682 total time=   9.3s\n",
      "[CV 1/5] END batch_size=10, epochs=20, optimizer=SGD;, score=-0.688 total time=  16.7s\n",
      "[CV 2/5] END batch_size=10, epochs=20, optimizer=SGD;, score=-0.438 total time=  16.7s\n",
      "[CV 3/5] END batch_size=10, epochs=20, optimizer=SGD;, score=-0.504 total time=  16.9s\n",
      "[CV 4/5] END batch_size=10, epochs=20, optimizer=SGD;, score=-0.486 total time=  17.0s\n",
      "[CV 5/5] END batch_size=10, epochs=20, optimizer=SGD;, score=-0.686 total time=  16.5s\n",
      "[CV 1/5] END batch_size=10, epochs=20, optimizer=RMSprop;, score=-0.687 total time=  18.0s\n",
      "[CV 2/5] END batch_size=10, epochs=20, optimizer=RMSprop;, score=-0.437 total time=  17.9s\n",
      "[CV 3/5] END batch_size=10, epochs=20, optimizer=RMSprop;, score=-0.502 total time=  17.9s\n",
      "[CV 4/5] END batch_size=10, epochs=20, optimizer=RMSprop;, score=-0.485 total time=  18.2s\n",
      "[CV 5/5] END batch_size=10, epochs=20, optimizer=RMSprop;, score=-0.682 total time=  18.0s\n",
      "[CV 1/5] END batch_size=10, epochs=20, optimizer=Adam;, score=-0.686 total time=  17.9s\n",
      "[CV 2/5] END batch_size=10, epochs=20, optimizer=Adam;, score=-0.437 total time=  17.9s\n",
      "[CV 3/5] END batch_size=10, epochs=20, optimizer=Adam;, score=-0.502 total time=  18.4s\n",
      "[CV 4/5] END batch_size=10, epochs=20, optimizer=Adam;, score=-0.485 total time=  18.2s\n",
      "[CV 5/5] END batch_size=10, epochs=20, optimizer=Adam;, score=-0.682 total time=  18.4s\n",
      "[CV 1/5] END batch_size=20, epochs=10, optimizer=SGD;, score=-0.704 total time=   4.7s\n",
      "[CV 2/5] END batch_size=20, epochs=10, optimizer=SGD;, score=-0.441 total time=   4.4s\n",
      "[CV 3/5] END batch_size=20, epochs=10, optimizer=SGD;, score=-0.511 total time=   4.4s\n",
      "[CV 4/5] END batch_size=20, epochs=10, optimizer=SGD;, score=-0.495 total time=   4.5s\n",
      "[CV 5/5] END batch_size=20, epochs=10, optimizer=SGD;, score=-0.687 total time=   4.5s\n",
      "[CV 1/5] END batch_size=20, epochs=10, optimizer=RMSprop;, score=-0.686 total time=   4.8s\n",
      "[CV 2/5] END batch_size=20, epochs=10, optimizer=RMSprop;, score=-0.437 total time=   4.9s\n",
      "[CV 3/5] END batch_size=20, epochs=10, optimizer=RMSprop;, score=-0.502 total time=   5.0s\n",
      "[CV 4/5] END batch_size=20, epochs=10, optimizer=RMSprop;, score=-0.485 total time=   5.1s\n",
      "[CV 5/5] END batch_size=20, epochs=10, optimizer=RMSprop;, score=-0.682 total time=   5.0s\n",
      "[CV 1/5] END batch_size=20, epochs=10, optimizer=Adam;, score=-0.686 total time=   4.9s\n",
      "[CV 2/5] END batch_size=20, epochs=10, optimizer=Adam;, score=-0.437 total time=   4.8s\n",
      "[CV 3/5] END batch_size=20, epochs=10, optimizer=Adam;, score=-0.502 total time=   4.8s\n",
      "[CV 4/5] END batch_size=20, epochs=10, optimizer=Adam;, score=-0.486 total time=   4.8s\n",
      "[CV 5/5] END batch_size=20, epochs=10, optimizer=Adam;, score=-0.682 total time=   4.9s\n",
      "[CV 1/5] END batch_size=20, epochs=20, optimizer=SGD;, score=-0.690 total time=   8.6s\n",
      "[CV 2/5] END batch_size=20, epochs=20, optimizer=SGD;, score=-0.438 total time=   8.7s\n",
      "[CV 3/5] END batch_size=20, epochs=20, optimizer=SGD;, score=-0.505 total time=   8.7s\n",
      "[CV 4/5] END batch_size=20, epochs=20, optimizer=SGD;, score=-0.487 total time=   9.5s\n",
      "[CV 5/5] END batch_size=20, epochs=20, optimizer=SGD;, score=-0.683 total time=   8.9s\n",
      "[CV 1/5] END batch_size=20, epochs=20, optimizer=RMSprop;, score=-0.686 total time=   9.4s\n",
      "[CV 2/5] END batch_size=20, epochs=20, optimizer=RMSprop;, score=-0.437 total time=   9.3s\n",
      "[CV 3/5] END batch_size=20, epochs=20, optimizer=RMSprop;, score=-0.502 total time=  10.3s\n",
      "[CV 4/5] END batch_size=20, epochs=20, optimizer=RMSprop;, score=-0.485 total time=  10.5s\n",
      "[CV 5/5] END batch_size=20, epochs=20, optimizer=RMSprop;, score=-0.682 total time=   9.3s\n",
      "[CV 1/5] END batch_size=20, epochs=20, optimizer=Adam;, score=-0.686 total time=   9.2s\n",
      "[CV 2/5] END batch_size=20, epochs=20, optimizer=Adam;, score=-0.437 total time=   9.2s\n",
      "[CV 3/5] END batch_size=20, epochs=20, optimizer=Adam;, score=-0.502 total time=  10.4s\n",
      "[CV 4/5] END batch_size=20, epochs=20, optimizer=Adam;, score=-0.485 total time=   9.5s\n",
      "[CV 5/5] END batch_size=20, epochs=20, optimizer=Adam;, score=-0.682 total time=   9.3s\n",
      "[CV 1/5] END batch_size=40, epochs=10, optimizer=SGD;, score=-1.306 total time=   2.3s\n",
      "[CV 2/5] END batch_size=40, epochs=10, optimizer=SGD;, score=-0.496 total time=   2.3s\n",
      "[CV 3/5] END batch_size=40, epochs=10, optimizer=SGD;, score=-1.121 total time=   2.3s\n",
      "[CV 4/5] END batch_size=40, epochs=10, optimizer=SGD;, score=-0.932 total time=   2.5s\n",
      "[CV 5/5] END batch_size=40, epochs=10, optimizer=SGD;, score=-1.050 total time=   2.3s\n",
      "[CV 1/5] END batch_size=40, epochs=10, optimizer=RMSprop;, score=-0.687 total time=   2.6s\n",
      "[CV 2/5] END batch_size=40, epochs=10, optimizer=RMSprop;, score=-0.437 total time=   2.7s\n",
      "[CV 3/5] END batch_size=40, epochs=10, optimizer=RMSprop;, score=-0.502 total time=   2.7s\n",
      "[CV 4/5] END batch_size=40, epochs=10, optimizer=RMSprop;, score=-0.485 total time=   2.7s\n",
      "[CV 5/5] END batch_size=40, epochs=10, optimizer=RMSprop;, score=-0.682 total time=   2.6s\n",
      "[CV 1/5] END batch_size=40, epochs=10, optimizer=Adam;, score=-0.688 total time=   2.5s\n",
      "[CV 2/5] END batch_size=40, epochs=10, optimizer=Adam;, score=-0.437 total time=   2.6s\n",
      "[CV 3/5] END batch_size=40, epochs=10, optimizer=Adam;, score=-0.503 total time=   2.6s\n",
      "[CV 4/5] END batch_size=40, epochs=10, optimizer=Adam;, score=-0.486 total time=   2.5s\n",
      "[CV 5/5] END batch_size=40, epochs=10, optimizer=Adam;, score=-0.683 total time=   2.5s\n",
      "[CV 1/5] END batch_size=40, epochs=20, optimizer=SGD;, score=-0.716 total time=   4.5s\n",
      "[CV 2/5] END batch_size=40, epochs=20, optimizer=SGD;, score=-0.443 total time=   4.5s\n",
      "[CV 3/5] END batch_size=40, epochs=20, optimizer=SGD;, score=-0.555 total time=   4.4s\n",
      "[CV 4/5] END batch_size=40, epochs=20, optimizer=SGD;, score=-0.491 total time=   4.4s\n",
      "[CV 5/5] END batch_size=40, epochs=20, optimizer=SGD;, score=-0.776 total time=   4.4s\n",
      "[CV 1/5] END batch_size=40, epochs=20, optimizer=RMSprop;, score=-0.686 total time=   4.7s\n",
      "[CV 2/5] END batch_size=40, epochs=20, optimizer=RMSprop;, score=-0.437 total time=   4.7s\n",
      "[CV 3/5] END batch_size=40, epochs=20, optimizer=RMSprop;, score=-0.502 total time=   4.8s\n",
      "[CV 4/5] END batch_size=40, epochs=20, optimizer=RMSprop;, score=-0.485 total time=   4.5s\n",
      "[CV 5/5] END batch_size=40, epochs=20, optimizer=RMSprop;, score=-0.682 total time=   4.8s\n",
      "[CV 1/5] END batch_size=40, epochs=20, optimizer=Adam;, score=-0.686 total time=   4.6s\n",
      "[CV 2/5] END batch_size=40, epochs=20, optimizer=Adam;, score=-0.437 total time=   4.7s\n",
      "[CV 3/5] END batch_size=40, epochs=20, optimizer=Adam;, score=-0.502 total time=   4.7s\n",
      "[CV 4/5] END batch_size=40, epochs=20, optimizer=Adam;, score=-0.486 total time=   5.0s\n",
      "[CV 5/5] END batch_size=40, epochs=20, optimizer=Adam;, score=-0.682 total time=   4.6s\n"
     ]
    }
   ],
   "source": [
    "model=KerasRegressor(build_fn=create_model,verbose=0)\n",
    "batch_size=[10,20,40]\n",
    "epochs=[10,20]\n",
    "optimizer=['SGD', 'RMSprop', 'Adam']\n",
    "\n",
    "## Make a dictionary of grid search Paramters\n",
    "param_grid=dict(batch_size=batch_size,epochs=epochs,optimizer=optimizer)\n",
    "\n",
    "grid=GridSearchCV(estimator=model,param_grid=param_grid,cv=KFold(),verbose=3)\n",
    "\n",
    "\n",
    "# Fitting parameters\n",
    "fit_params = dict(callbacks=[early_stopping])\n",
    "\n",
    "grid_result=grid.fit(X,Y,**fit_params)"
   ]
  },
  {
   "cell_type": "code",
   "execution_count": 25,
   "id": "b301ef2e",
   "metadata": {},
   "outputs": [
    {
     "name": "stdout",
     "output_type": "stream",
     "text": [
      "Best : -0.5584318161010742, using {'batch_size': 20, 'epochs': 20, 'optimizer': 'Adam'}\n",
      "-0.566681033372879,0.10441199854885844 with: {'batch_size': 10, 'epochs': 10, 'optimizer': 'SGD'}\n",
      "-0.5585632205009461,0.10484484853335083 with: {'batch_size': 10, 'epochs': 10, 'optimizer': 'RMSprop'}\n",
      "-0.5585671484470367,0.10479535444677206 with: {'batch_size': 10, 'epochs': 10, 'optimizer': 'Adam'}\n",
      "-0.5605689525604248,0.10574889696400701 with: {'batch_size': 10, 'epochs': 20, 'optimizer': 'SGD'}\n",
      "-0.5585078954696655,0.10482684581654893 with: {'batch_size': 10, 'epochs': 20, 'optimizer': 'RMSprop'}\n",
      "-0.5584574699401855,0.10484281169985743 with: {'batch_size': 10, 'epochs': 20, 'optimizer': 'Adam'}\n",
      "-0.5675339102745056,0.10719117681641145 with: {'batch_size': 20, 'epochs': 10, 'optimizer': 'SGD'}\n",
      "-0.5585524439811707,0.10477902594414662 with: {'batch_size': 20, 'epochs': 10, 'optimizer': 'RMSprop'}\n",
      "-0.5587097346782685,0.10478353559726603 with: {'batch_size': 20, 'epochs': 10, 'optimizer': 'Adam'}\n",
      "-0.5608809351921081,0.10502975874361668 with: {'batch_size': 20, 'epochs': 20, 'optimizer': 'SGD'}\n",
      "-0.5584983468055725,0.104884474581247 with: {'batch_size': 20, 'epochs': 20, 'optimizer': 'RMSprop'}\n",
      "-0.5584318161010742,0.1049287596410918 with: {'batch_size': 20, 'epochs': 20, 'optimizer': 'Adam'}\n",
      "-0.9809871912002563,0.2710020408511627 with: {'batch_size': 40, 'epochs': 10, 'optimizer': 'SGD'}\n",
      "-0.5587392568588256,0.10483162569545035 with: {'batch_size': 40, 'epochs': 10, 'optimizer': 'RMSprop'}\n",
      "-0.5593843698501587,0.10495238302208693 with: {'batch_size': 40, 'epochs': 10, 'optimizer': 'Adam'}\n",
      "-0.596017450094223,0.12886482612036473 with: {'batch_size': 40, 'epochs': 20, 'optimizer': 'SGD'}\n",
      "-0.5585396707057952,0.1048437667025541 with: {'batch_size': 40, 'epochs': 20, 'optimizer': 'RMSprop'}\n",
      "-0.5587172269821167,0.10471098152666417 with: {'batch_size': 40, 'epochs': 20, 'optimizer': 'Adam'}\n"
     ]
    }
   ],
   "source": [
    "print('Best : {}, using {}'.format(grid_result.best_score_,grid_result.best_params_))\n",
    "means = grid_result.cv_results_['mean_test_score']\n",
    "stds = grid_result.cv_results_['std_test_score']\n",
    "params = grid_result.cv_results_['params']\n",
    "for mean, stdev, param in zip(means, stds, params):\n",
    "    print('{},{} with: {}'.format(mean, stdev, param))"
   ]
  },
  {
   "cell_type": "code",
   "execution_count": 26,
   "id": "83e73515",
   "metadata": {},
   "outputs": [
    {
     "data": {
      "text/plain": [
       "{'batch_size': 20, 'epochs': 20, 'optimizer': 'Adam'}"
      ]
     },
     "execution_count": 26,
     "metadata": {},
     "output_type": "execute_result"
    }
   ],
   "source": [
    "grid_result.best_params_"
   ]
  },
  {
   "cell_type": "markdown",
   "id": "ccef134a",
   "metadata": {},
   "source": [
    "## Final Model Building"
   ]
  },
  {
   "cell_type": "code",
   "execution_count": 28,
   "id": "4cdce7a4",
   "metadata": {},
   "outputs": [],
   "source": [
    "from sklearn.model_selection import train_test_split\n",
    "\n",
    "X_train,X_test,Y_train,Y_test=train_test_split(X,Y,test_size=0.3,random_state=0)\n"
   ]
  },
  {
   "cell_type": "code",
   "execution_count": 29,
   "id": "a747c238",
   "metadata": {},
   "outputs": [
    {
     "data": {
      "text/plain": [
       "(10527, 10)"
      ]
     },
     "execution_count": 29,
     "metadata": {},
     "output_type": "execute_result"
    }
   ],
   "source": [
    "X_train.shape"
   ]
  },
  {
   "cell_type": "code",
   "execution_count": 30,
   "id": "2df1a7e4",
   "metadata": {},
   "outputs": [
    {
     "data": {
      "text/plain": [
       "(4512, 10)"
      ]
     },
     "execution_count": 30,
     "metadata": {},
     "output_type": "execute_result"
    }
   ],
   "source": [
    "X_test.shape"
   ]
  },
  {
   "cell_type": "code",
   "execution_count": 31,
   "id": "15ea5e99",
   "metadata": {},
   "outputs": [],
   "source": [
    "from sklearn.model_selection import GridSearchCV, KFold\n",
    "from keras.models import Sequential\n",
    "from keras.layers import Dense\n",
    "from keras.wrappers.scikit_learn import KerasClassifier\n",
    "from keras.optimizers import Adam\n",
    "from tensorflow.keras.optimizers import Adam, SGD, RMSprop\n",
    "import keras"
   ]
  },
  {
   "cell_type": "code",
   "execution_count": 33,
   "id": "15a49f99",
   "metadata": {},
   "outputs": [],
   "source": [
    "model_new=keras.Sequential([\n",
    "    keras.layers.Dense(4,input_dim=(n_features),activation='relu'),\n",
    "    keras.layers.Dense(2,activation='relu')\n",
    "])\n",
    "model_new.compile(optimizer='Adam',loss='mean_squared_error',metrics=['accuracy'])"
   ]
  },
  {
   "cell_type": "code",
   "execution_count": null,
   "id": "013621aa",
   "metadata": {},
   "outputs": [],
   "source": [
    "## Building model with best params from grid search"
   ]
  },
  {
   "cell_type": "code",
   "execution_count": 34,
   "id": "b7259ac5",
   "metadata": {},
   "outputs": [
    {
     "name": "stdout",
     "output_type": "stream",
     "text": [
      "Epoch 1/20\n",
      "527/527 [==============================] - 1s 849us/step - loss: 0.8938 - accuracy: 0.0000e+00\n",
      "Epoch 2/20\n",
      "527/527 [==============================] - 0s 866us/step - loss: 0.4973 - accuracy: 0.0000e+00\n",
      "Epoch 3/20\n",
      "527/527 [==============================] - 0s 830us/step - loss: 0.4801 - accuracy: 0.0000e+00\n",
      "Epoch 4/20\n",
      "527/527 [==============================] - 0s 888us/step - loss: 0.4753 - accuracy: 0.0000e+00\n",
      "Epoch 5/20\n",
      "527/527 [==============================] - 0s 830us/step - loss: 0.4735 - accuracy: 0.0000e+00\n",
      "Epoch 6/20\n",
      "527/527 [==============================] - 0s 837us/step - loss: 0.4727 - accuracy: 0.0000e+00\n",
      "Epoch 7/20\n",
      "527/527 [==============================] - 0s 836us/step - loss: 0.4722 - accuracy: 0.0000e+00\n",
      "Epoch 8/20\n",
      "527/527 [==============================] - 0s 827us/step - loss: 0.4719 - accuracy: 0.0000e+00\n",
      "Epoch 9/20\n",
      "527/527 [==============================] - 0s 831us/step - loss: 0.4717 - accuracy: 0.0000e+00\n",
      "Epoch 10/20\n",
      "527/527 [==============================] - 0s 825us/step - loss: 0.4715 - accuracy: 0.0000e+00\n",
      "Epoch 11/20\n",
      "527/527 [==============================] - 0s 839us/step - loss: 0.4714 - accuracy: 0.0000e+00\n",
      "Epoch 12/20\n",
      "527/527 [==============================] - 0s 858us/step - loss: 0.4713 - accuracy: 0.0000e+00\n",
      "Epoch 13/20\n",
      "527/527 [==============================] - 0s 863us/step - loss: 0.4712 - accuracy: 0.0000e+00\n",
      "Epoch 14/20\n",
      "527/527 [==============================] - 0s 871us/step - loss: 0.4711 - accuracy: 0.0000e+00\n",
      "Epoch 15/20\n",
      "527/527 [==============================] - 0s 866us/step - loss: 0.4711 - accuracy: 0.0000e+00\n",
      "Epoch 16/20\n",
      "527/527 [==============================] - 0s 845us/step - loss: 0.4711 - accuracy: 0.0000e+00\n",
      "Epoch 17/20\n",
      "527/527 [==============================] - 0s 899us/step - loss: 0.4710 - accuracy: 0.0000e+00\n",
      "Epoch 18/20\n",
      "527/527 [==============================] - 0s 877us/step - loss: 0.4710 - accuracy: 0.0000e+00\n",
      "Epoch 19/20\n",
      "527/527 [==============================] - 0s 855us/step - loss: 0.4710 - accuracy: 0.0000e+00\n",
      "Epoch 20/20\n",
      "527/527 [==============================] - 0s 853us/step - loss: 0.4710 - accuracy: 0.0000e+00\n"
     ]
    },
    {
     "data": {
      "text/plain": [
       "<keras.callbacks.History at 0x1a00dcbfb80>"
      ]
     },
     "execution_count": 34,
     "metadata": {},
     "output_type": "execute_result"
    }
   ],
   "source": [
    "seed_value=0\n",
    "import random\n",
    "import tensorflow\n",
    "tensorflow.random.set_seed(seed_value)\n",
    "model_new.fit(X_train,Y_train,epochs=20,batch_size=20,verbose=1)"
   ]
  },
  {
   "cell_type": "code",
   "execution_count": 35,
   "id": "8607ec80",
   "metadata": {},
   "outputs": [
    {
     "name": "stdout",
     "output_type": "stream",
     "text": [
      "141/141 [==============================] - 0s 730us/step - loss: 0.4975 - accuracy: 0.0000e+00\n"
     ]
    },
    {
     "data": {
      "text/plain": [
       "[0.4974605441093445, 0.0]"
      ]
     },
     "execution_count": 35,
     "metadata": {},
     "output_type": "execute_result"
    }
   ],
   "source": [
    "model_new.evaluate(X_test,Y_test)"
   ]
  }
 ],
 "metadata": {
  "kernelspec": {
   "display_name": "Python 3 (ipykernel)",
   "language": "python",
   "name": "python3"
  },
  "language_info": {
   "codemirror_mode": {
    "name": "ipython",
    "version": 3
   },
   "file_extension": ".py",
   "mimetype": "text/x-python",
   "name": "python",
   "nbconvert_exporter": "python",
   "pygments_lexer": "ipython3",
   "version": "3.9.7"
  }
 },
 "nbformat": 4,
 "nbformat_minor": 5
}
